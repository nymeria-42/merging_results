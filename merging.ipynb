{
 "cells": [
  {
   "cell_type": "code",
   "execution_count": 1,
   "metadata": {},
   "outputs": [],
   "source": [
    "import pandas as pd\n",
    "import numpy as np\n",
    "\n",
    "from pathlib  import Path"
   ]
  },
  {
   "cell_type": "code",
   "execution_count": 2,
   "metadata": {},
   "outputs": [],
   "source": [
    "directories = [f\"execution_{i}\" for i in range(1, 26)]"
   ]
  },
  {
   "cell_type": "code",
   "execution_count": 3,
   "metadata": {},
   "outputs": [],
   "source": [
    "dfs = []\n",
    "for index, directory in enumerate(directories):\n",
    "    p = Path(directory)\n",
    "    \n",
    "    df_training_config = pd.read_csv(p/\"training_config.csv\", names = [\n",
    "        \"server_round\",\t\t\t\n",
    "\t\t\"shuffle\",\n",
    "\t\t\"batch_size\",\n",
    "\t\t\"initial_epoch\",\n",
    "\t\t\"epochs\",\n",
    "\t\t\"steps_per_epoch\", \n",
    "\t\t\"validation_split\",\n",
    "\t\t\"validation_batch_size\"\n",
    "    ])\n",
    "\n",
    "    df_results = pd.read_csv(p/\"metrics_results.csv\", names = [\n",
    "        \"server_round\",\n",
    "        \"total_num_clients\",\n",
    "        \"total_num_examples\",\n",
    "        \"accuracy\",\n",
    "        \"loss\",\n",
    "        \"training_time\",\n",
    "        \"val_accuracy\",\n",
    "        \"val_loss\", \n",
    "        \"starting_time\", \n",
    "\t\t\"ending_time\",\n",
    "        \"evaluation_total_num_clients\",\n",
    "        \"evaluation_total_num_examples\",\n",
    "        \"evaluation_accuracy\",\n",
    "        \"evaluation_loss\",\n",
    "        \"evaluation_time\"\n",
    "    ])\n",
    "\n",
    "    df = df_results.merge(df_training_config, on = \"server_round\")\n",
    "    df.drop(columns = [\"shuffle\", \"starting_time\", \"ending_time\", \"steps_per_epoch\", \"initial_epoch\", \"validation_batch_size\"], inplace = True)\n",
    "    df.insert(0, 'experiment', index+1)\n",
    "    dfs.append(df)\n",
    "\n",
    "df_merged = pd.concat(dfs)"
   ]
  },
  {
   "cell_type": "code",
   "execution_count": 4,
   "metadata": {},
   "outputs": [],
   "source": [
    "df_merged.to_csv('results_merged.csv')"
   ]
  },
  {
   "cell_type": "code",
   "execution_count": 5,
   "metadata": {},
   "outputs": [],
   "source": [
    "df_top_results = df_merged[[\"batch_size\", \"epochs\"]].drop_duplicates()\n",
    "df_top_results.index = np.arange(1,26)"
   ]
  },
  {
   "cell_type": "code",
   "execution_count": 6,
   "metadata": {},
   "outputs": [],
   "source": [
    "df_top_results[\"max_accuracy\"] = df_merged.groupby(by=\"experiment\")[\"evaluation_accuracy\"].max()\n",
    "df_top_results[\"final_accuracy\"] = df_merged.groupby(by=\"experiment\")[\"evaluation_accuracy\"].last()\n",
    "df_top_results[\"min_loss\"] = df_merged.groupby(by=\"experiment\")[\"evaluation_loss\"].min()\n",
    "df_top_results[\"final_loss\"] = df_merged.groupby(by=\"experiment\")[\"evaluation_loss\"].last()\n",
    "df_top_results[\"max_training_time\"] = df_merged.groupby(by=\"experiment\")[\"training_time\"].max()\n",
    "df_top_results[\"min_training_time\"] = df_merged.groupby(by=\"experiment\")[\"training_time\"].min()\n",
    "df_top_results[\"mean_training_time\"] = df_merged.groupby(by=\"experiment\")[\"training_time\"].mean()"
   ]
  },
  {
   "cell_type": "code",
   "execution_count": 7,
   "metadata": {},
   "outputs": [],
   "source": [
    "df_top_results.to_csv(\"metrics_by_experiment.csv\")"
   ]
  }
 ],
 "metadata": {
  "kernelspec": {
   "display_name": "venv",
   "language": "python",
   "name": "python3"
  },
  "language_info": {
   "codemirror_mode": {
    "name": "ipython",
    "version": 3
   },
   "file_extension": ".py",
   "mimetype": "text/x-python",
   "name": "python",
   "nbconvert_exporter": "python",
   "pygments_lexer": "ipython3",
   "version": "3.10.6"
  },
  "orig_nbformat": 4,
  "vscode": {
   "interpreter": {
    "hash": "ac03de1de99ebcbcbc02541c179597738c80ff92df1f16c2cfe300308f5b30a0"
   }
  }
 },
 "nbformat": 4,
 "nbformat_minor": 2
}
